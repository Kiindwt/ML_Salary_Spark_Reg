{
 "cells": [
  {
   "cell_type": "markdown",
   "metadata": {},
   "source": [
    "## 0. Importing Libraries"
   ]
  },
  {
   "cell_type": "code",
   "execution_count": 275,
   "metadata": {},
   "outputs": [],
   "source": [
    "# For data manipulation\n",
    "from pyspark.sql import SparkSession\n",
    "from pyspark.sql.functions import when, count, col\n",
    "\n",
    "# For data preprocessing\n",
    "from pyspark.ml.feature import StringIndexer, VectorAssembler\n",
    "from pyspark.ml import Pipeline\n",
    "\n",
    "# For model building\n",
    "from pyspark.ml.regression import GBTRegressor\n",
    "from pyspark.ml.regression import RandomForestRegressor\n",
    "from pyspark.ml.regression import LinearRegression\n",
    "\n",
    "# For model evaluation\n",
    "from pyspark.ml.evaluation import RegressionEvaluator\n",
    "from pyspark.ml.tuning import ParamGridBuilder, CrossValidator\n",
    "\n",
    "import warnings\n",
    "warnings.filterwarnings('ignore')"
   ]
  },
  {
   "cell_type": "markdown",
   "metadata": {},
   "source": [
    "## 1. Looking to the Dataset"
   ]
  },
  {
   "cell_type": "code",
   "execution_count": 276,
   "metadata": {},
   "outputs": [],
   "source": [
    "spark = SparkSession.builder.appName('salarydata').getOrCreate()"
   ]
  },
  {
   "cell_type": "code",
   "execution_count": 277,
   "metadata": {},
   "outputs": [],
   "source": [
    "df = spark.read.csv('data/salary.csv', header=True, inferSchema=True)"
   ]
  },
  {
   "cell_type": "code",
   "execution_count": 278,
   "metadata": {},
   "outputs": [
    {
     "name": "stdout",
     "output_type": "stream",
     "text": [
      "+---+----+------+---------------+-----------------+-------------------+--------+-------+--------+\n",
      "|_c0| Age|Gender|Education Level|        Job Title|Years of Experience|  Salary|Country|    Race|\n",
      "+---+----+------+---------------+-----------------+-------------------+--------+-------+--------+\n",
      "|  0|32.0|  Male|     Bachelor's|Software Engineer|                5.0| 90000.0|     UK|   White|\n",
      "|  1|28.0|Female|       Master's|     Data Analyst|                3.0| 65000.0|    USA|Hispanic|\n",
      "|  2|45.0|  Male|            PhD|   Senior Manager|               15.0|150000.0| Canada|   White|\n",
      "|  3|36.0|Female|     Bachelor's|  Sales Associate|                7.0| 60000.0|    USA|Hispanic|\n",
      "|  4|52.0|  Male|       Master's|         Director|               20.0|200000.0|    USA|   Asian|\n",
      "+---+----+------+---------------+-----------------+-------------------+--------+-------+--------+\n",
      "only showing top 5 rows\n",
      "\n"
     ]
    }
   ],
   "source": [
    "df.show(5)"
   ]
  },
  {
   "cell_type": "code",
   "execution_count": 279,
   "metadata": {},
   "outputs": [
    {
     "name": "stdout",
     "output_type": "stream",
     "text": [
      "root\n",
      " |-- _c0: integer (nullable = true)\n",
      " |-- Age: double (nullable = true)\n",
      " |-- Gender: string (nullable = true)\n",
      " |-- Education Level: string (nullable = true)\n",
      " |-- Job Title: string (nullable = true)\n",
      " |-- Years of Experience: double (nullable = true)\n",
      " |-- Salary: double (nullable = true)\n",
      " |-- Country: string (nullable = true)\n",
      " |-- Race: string (nullable = true)\n",
      "\n"
     ]
    }
   ],
   "source": [
    "df.printSchema()"
   ]
  },
  {
   "cell_type": "code",
   "execution_count": 280,
   "metadata": {},
   "outputs": [
    {
     "name": "stdout",
     "output_type": "stream",
     "text": [
      "Number of rows: 6704\n",
      "Number of columns: 9\n"
     ]
    }
   ],
   "source": [
    "num_rows = df.count()\n",
    "num_cols = len(df.columns)\n",
    "\n",
    "print(\"Number of rows: %d\" % num_rows)\n",
    "print(\"Number of columns: %d\" % num_cols)"
   ]
  },
  {
   "cell_type": "code",
   "execution_count": 281,
   "metadata": {},
   "outputs": [
    {
     "data": {
      "text/html": [
       "<div>\n",
       "<style scoped>\n",
       "    .dataframe tbody tr th:only-of-type {\n",
       "        vertical-align: middle;\n",
       "    }\n",
       "\n",
       "    .dataframe tbody tr th {\n",
       "        vertical-align: top;\n",
       "    }\n",
       "\n",
       "    .dataframe thead th {\n",
       "        text-align: right;\n",
       "    }\n",
       "</style>\n",
       "<table border=\"1\" class=\"dataframe\">\n",
       "  <thead>\n",
       "    <tr style=\"text-align: right;\">\n",
       "      <th></th>\n",
       "      <th>count</th>\n",
       "      <th>mean</th>\n",
       "      <th>std</th>\n",
       "      <th>min</th>\n",
       "      <th>25%</th>\n",
       "      <th>50%</th>\n",
       "      <th>75%</th>\n",
       "      <th>max</th>\n",
       "    </tr>\n",
       "  </thead>\n",
       "  <tbody>\n",
       "    <tr>\n",
       "      <th>_c0</th>\n",
       "      <td>6704.0</td>\n",
       "      <td>3351.500000</td>\n",
       "      <td>1935.422435</td>\n",
       "      <td>0.0</td>\n",
       "      <td>1675.75</td>\n",
       "      <td>3351.5</td>\n",
       "      <td>5027.25</td>\n",
       "      <td>6703.0</td>\n",
       "    </tr>\n",
       "    <tr>\n",
       "      <th>Age</th>\n",
       "      <td>6702.0</td>\n",
       "      <td>33.620859</td>\n",
       "      <td>7.614633</td>\n",
       "      <td>21.0</td>\n",
       "      <td>28.00</td>\n",
       "      <td>32.0</td>\n",
       "      <td>38.00</td>\n",
       "      <td>62.0</td>\n",
       "    </tr>\n",
       "    <tr>\n",
       "      <th>Years of Experience</th>\n",
       "      <td>6701.0</td>\n",
       "      <td>8.094687</td>\n",
       "      <td>6.059003</td>\n",
       "      <td>0.0</td>\n",
       "      <td>3.00</td>\n",
       "      <td>7.0</td>\n",
       "      <td>12.00</td>\n",
       "      <td>34.0</td>\n",
       "    </tr>\n",
       "    <tr>\n",
       "      <th>Salary</th>\n",
       "      <td>6699.0</td>\n",
       "      <td>115326.964771</td>\n",
       "      <td>52786.183911</td>\n",
       "      <td>350.0</td>\n",
       "      <td>70000.00</td>\n",
       "      <td>115000.0</td>\n",
       "      <td>160000.00</td>\n",
       "      <td>250000.0</td>\n",
       "    </tr>\n",
       "  </tbody>\n",
       "</table>\n",
       "</div>"
      ],
      "text/plain": [
       "                      count           mean           std    min       25%  \\\n",
       "_c0                  6704.0    3351.500000   1935.422435    0.0   1675.75   \n",
       "Age                  6702.0      33.620859      7.614633   21.0     28.00   \n",
       "Years of Experience  6701.0       8.094687      6.059003    0.0      3.00   \n",
       "Salary               6699.0  115326.964771  52786.183911  350.0  70000.00   \n",
       "\n",
       "                          50%        75%       max  \n",
       "_c0                    3351.5    5027.25    6703.0  \n",
       "Age                      32.0      38.00      62.0  \n",
       "Years of Experience       7.0      12.00      34.0  \n",
       "Salary               115000.0  160000.00  250000.0  "
      ]
     },
     "execution_count": 281,
     "metadata": {},
     "output_type": "execute_result"
    }
   ],
   "source": [
    "df.toPandas().describe().T"
   ]
  },
  {
   "cell_type": "markdown",
   "metadata": {},
   "source": [
    "Looking at the 'count' column we can see different values in all rows, indicating that there are missing values"
   ]
  },
  {
   "cell_type": "markdown",
   "metadata": {},
   "source": [
    "## 2. Checking missing values"
   ]
  },
  {
   "cell_type": "code",
   "execution_count": 282,
   "metadata": {},
   "outputs": [
    {
     "data": {
      "text/plain": [
       "_c0                    0\n",
       "Age                    2\n",
       "Gender                 2\n",
       "Education Level        3\n",
       "Job Title              2\n",
       "Years of Experience    3\n",
       "Salary                 5\n",
       "Country                0\n",
       "Race                   0\n",
       "dtype: int64"
      ]
     },
     "execution_count": 282,
     "metadata": {},
     "output_type": "execute_result"
    }
   ],
   "source": [
    "df.toPandas().isnull().sum()"
   ]
  },
  {
   "cell_type": "code",
   "execution_count": 283,
   "metadata": {},
   "outputs": [],
   "source": [
    "df = df.na.drop() #drop all rows with any null values"
   ]
  },
  {
   "cell_type": "markdown",
   "metadata": {},
   "source": [
    "## 3. DataFrame Operations"
   ]
  },
  {
   "cell_type": "markdown",
   "metadata": {},
   "source": [
    "<div style=\"padding-left: 20px;\">\n",
    "    <h3>3.1 Checking the Unique Values</h3>\n",
    "</div>"
   ]
  },
  {
   "cell_type": "markdown",
   "metadata": {},
   "source": [
    "<div style=\"padding-left: 20px;\">\n",
    "    <h4>3.1.1 Education Level</h4>\n",
    "</div>"
   ]
  },
  {
   "cell_type": "code",
   "execution_count": 284,
   "metadata": {},
   "outputs": [
    {
     "name": "stdout",
     "output_type": "stream",
     "text": [
      "+-----------------+\n",
      "|  Education Level|\n",
      "+-----------------+\n",
      "|      High School|\n",
      "|  Master's Degree|\n",
      "|Bachelor's Degree|\n",
      "|              PhD|\n",
      "|              phD|\n",
      "|       Bachelor's|\n",
      "|         Master's|\n",
      "+-----------------+\n",
      "\n"
     ]
    }
   ],
   "source": [
    "df.select('Education Level').distinct().show()"
   ]
  },
  {
   "cell_type": "markdown",
   "metadata": {},
   "source": [
    "Above we see that we have several values that have the same meaning, this can get in the way when analyzing the data, so let's convert them to a single value.\n",
    "\n",
    "+ Master's Degree --> Master's \n",
    "+ Bachelor's Degree --> Bachelor's e \n",
    "+ phD --> PhD\n"
   ]
  },
  {
   "cell_type": "code",
   "execution_count": 285,
   "metadata": {},
   "outputs": [],
   "source": [
    "df = df.withColumn(\"Education Level\", when(col(\"Education Level\") == \"Master's Degree\", \"Master's\").otherwise(col(\"Education Level\"))) \\\n",
    "       .withColumn(\"Education Level\", when(col(\"Education Level\") == \"phD\", \"PhD\").otherwise(col(\"Education Level\"))) \\\n",
    "       .withColumn(\"Education Level\", when(col(\"Education Level\") == \"Bachelor's Degree\", \"Bachelor's\").otherwise(col(\"Education Level\")))"
   ]
  },
  {
   "cell_type": "markdown",
   "metadata": {},
   "source": [
    "<div style=\"padding-left: 20px;\">\n",
    "    <h4>3.1.2 Race</h4>\n",
    "</div>"
   ]
  },
  {
   "cell_type": "code",
   "execution_count": 286,
   "metadata": {},
   "outputs": [
    {
     "name": "stdout",
     "output_type": "stream",
     "text": [
      "+----------------+\n",
      "|            Race|\n",
      "+----------------+\n",
      "|         Chinese|\n",
      "|African American|\n",
      "|      Australian|\n",
      "|           Mixed|\n",
      "|          Korean|\n",
      "|           White|\n",
      "|        Hispanic|\n",
      "|           Black|\n",
      "|           Asian|\n",
      "|           Welsh|\n",
      "+----------------+\n",
      "\n"
     ]
    }
   ],
   "source": [
    "df.select('Race').distinct().show()"
   ]
  },
  {
   "cell_type": "markdown",
   "metadata": {},
   "source": [
    "<div style=\"padding-left: 20px;\">\n",
    "    <h4>3.1.3 Country</h4>\n",
    "</div>"
   ]
  },
  {
   "cell_type": "code",
   "execution_count": 287,
   "metadata": {},
   "outputs": [
    {
     "name": "stdout",
     "output_type": "stream",
     "text": [
      "+---------+\n",
      "|  Country|\n",
      "+---------+\n",
      "|    China|\n",
      "|      USA|\n",
      "|       UK|\n",
      "|   Canada|\n",
      "|Australia|\n",
      "+---------+\n",
      "\n"
     ]
    }
   ],
   "source": [
    "df.select('Country').distinct().show()"
   ]
  },
  {
   "cell_type": "markdown",
   "metadata": {},
   "source": [
    "<div style=\"padding-left: 20px;\">\n",
    "    <h4>3.1.4 Gender</h4>\n",
    "</div>"
   ]
  },
  {
   "cell_type": "code",
   "execution_count": 288,
   "metadata": {},
   "outputs": [
    {
     "name": "stdout",
     "output_type": "stream",
     "text": [
      "+------+\n",
      "|Gender|\n",
      "+------+\n",
      "|Female|\n",
      "| Other|\n",
      "|  Male|\n",
      "+------+\n",
      "\n"
     ]
    }
   ],
   "source": [
    "df.select('Gender').distinct().show()"
   ]
  },
  {
   "cell_type": "markdown",
   "metadata": {},
   "source": [
    "## 4. SQL Spark"
   ]
  },
  {
   "cell_type": "markdown",
   "metadata": {},
   "source": [
    "Renaming columns to avoid spaces, since SQL does not recognize spaces in column names."
   ]
  },
  {
   "cell_type": "code",
   "execution_count": 289,
   "metadata": {},
   "outputs": [],
   "source": [
    "df = df.withColumnRenamed(\"Education Level\", \"EducationLevel\") \\\n",
    "       .withColumnRenamed(\"Job Title\", \"JobTitle\") \\\n",
    "       .withColumnRenamed(\"Years of Experience\", \"Experience\") \\\n",
    "       .withColumnRenamed(\"_c0\", \"ID\")"
   ]
  },
  {
   "cell_type": "markdown",
   "metadata": {},
   "source": [
    "Using the ```'createOrReplaceTempView'``` command to allow queries on the DataFrame using SQL commands."
   ]
  },
  {
   "cell_type": "code",
   "execution_count": 290,
   "metadata": {},
   "outputs": [],
   "source": [
    "df.createOrReplaceTempView(\"salarydb\")"
   ]
  },
  {
   "cell_type": "code",
   "execution_count": 291,
   "metadata": {},
   "outputs": [
    {
     "name": "stdout",
     "output_type": "stream",
     "text": [
      "+---+----+------+--------------+-----------------+----------+--------+-------+--------+\n",
      "|ID |Age |Gender|EducationLevel|JobTitle         |Experience|Salary  |Country|Race    |\n",
      "+---+----+------+--------------+-----------------+----------+--------+-------+--------+\n",
      "|0  |32.0|Male  |Bachelor's    |Software Engineer|5.0       |90000.0 |UK     |White   |\n",
      "|1  |28.0|Female|Master's      |Data Analyst     |3.0       |65000.0 |USA    |Hispanic|\n",
      "|2  |45.0|Male  |PhD           |Senior Manager   |15.0      |150000.0|Canada |White   |\n",
      "|3  |36.0|Female|Bachelor's    |Sales Associate  |7.0       |60000.0 |USA    |Hispanic|\n",
      "|4  |52.0|Male  |Master's      |Director         |20.0      |200000.0|USA    |Asian   |\n",
      "+---+----+------+--------------+-----------------+----------+--------+-------+--------+\n",
      "only showing top 5 rows\n",
      "\n"
     ]
    }
   ],
   "source": [
    "spark.sql('select * from salarydb').show(5,False)"
   ]
  },
  {
   "cell_type": "markdown",
   "metadata": {},
   "source": [
    "## 4.1 Count"
   ]
  },
  {
   "cell_type": "markdown",
   "metadata": {},
   "source": [
    "### 4.1.1 Count by Country"
   ]
  },
  {
   "cell_type": "code",
   "execution_count": 292,
   "metadata": {},
   "outputs": [
    {
     "name": "stdout",
     "output_type": "stream",
     "text": [
      "+---------+-----+\n",
      "|  Country|count|\n",
      "+---------+-----+\n",
      "|      USA| 1359|\n",
      "|    China| 1343|\n",
      "|Australia| 1336|\n",
      "|       UK| 1335|\n",
      "|   Canada| 1325|\n",
      "+---------+-----+\n",
      "\n"
     ]
    }
   ],
   "source": [
    "spark.sql(\"SELECT Country,\\\n",
    "        COUNT(Country) AS count\\\n",
    "        FROM salarydb\\\n",
    "        GROUP BY Country\\\n",
    "        ORDER BY count DESC\").show()"
   ]
  },
  {
   "cell_type": "markdown",
   "metadata": {},
   "source": [
    "+   The amount of data from each country is similar"
   ]
  },
  {
   "cell_type": "markdown",
   "metadata": {},
   "source": [
    "### 4.1.2 Count by Race"
   ]
  },
  {
   "cell_type": "code",
   "execution_count": 293,
   "metadata": {},
   "outputs": [
    {
     "name": "stdout",
     "output_type": "stream",
     "text": [
      "+----------------+-----+\n",
      "|            Race|count|\n",
      "+----------------+-----+\n",
      "|           White| 1962|\n",
      "|           Asian| 1603|\n",
      "|          Korean|  457|\n",
      "|      Australian|  452|\n",
      "|         Chinese|  444|\n",
      "|           Black|  437|\n",
      "|African American|  354|\n",
      "|           Mixed|  334|\n",
      "|           Welsh|  333|\n",
      "|        Hispanic|  322|\n",
      "+----------------+-----+\n",
      "\n"
     ]
    }
   ],
   "source": [
    "spark.sql(\"SELECT Race,\\\n",
    "        COUNT(Race) AS count\\\n",
    "        FROM salarydb\\\n",
    "        GROUP BY Race\\\n",
    "        ORDER BY count DESC\").show()"
   ]
  },
  {
   "cell_type": "markdown",
   "metadata": {},
   "source": [
    "+ Most of people are **'White'** and **'Asian'**"
   ]
  },
  {
   "cell_type": "markdown",
   "metadata": {},
   "source": [
    "### 4.1.3 Count by Gender"
   ]
  },
  {
   "cell_type": "code",
   "execution_count": 294,
   "metadata": {},
   "outputs": [
    {
     "name": "stdout",
     "output_type": "stream",
     "text": [
      "+------+-----+\n",
      "|Gender|count|\n",
      "+------+-----+\n",
      "|  Male| 3671|\n",
      "|Female| 3013|\n",
      "| Other|   14|\n",
      "+------+-----+\n",
      "\n"
     ]
    }
   ],
   "source": [
    "spark.sql(\"SELECT Gender,\\\n",
    "        COUNT(Gender) AS count\\\n",
    "        FROM salarydb\\\n",
    "        GROUP BY Gender\\\n",
    "        ORDER BY count DESC\").show()"
   ]
  },
  {
   "cell_type": "markdown",
   "metadata": {},
   "source": [
    "+ We have little data available on people who identify as **'Other'**"
   ]
  },
  {
   "cell_type": "markdown",
   "metadata": {},
   "source": [
    "### 4.1.4 Education level vs Salary"
   ]
  },
  {
   "cell_type": "code",
   "execution_count": 295,
   "metadata": {},
   "outputs": [
    {
     "name": "stdout",
     "output_type": "stream",
     "text": [
      "+--------------+----------+\n",
      "|EducationLevel|avg_salary|\n",
      "+--------------+----------+\n",
      "|           PhD| 165651.46|\n",
      "|      Master's| 130112.06|\n",
      "|    Bachelor's|  95082.91|\n",
      "|   High School|  36706.69|\n",
      "+--------------+----------+\n",
      "\n"
     ]
    }
   ],
   "source": [
    "spark.sql(\"SELECT \\\n",
    "    EducationLevel, \\\n",
    "    ROUND(AVG(Salary), 2) AS avg_salary \\\n",
    "FROM \\\n",
    "    salarydb \\\n",
    "GROUP BY \\\n",
    "    EducationLevel \\\n",
    "ORDER BY 2 DESC\" ).show()"
   ]
  },
  {
   "cell_type": "markdown",
   "metadata": {},
   "source": [
    "+ The salary of a graduate with **PhD** is much higher than any other type of degree\n",
    "\n",
    "+ People who only have a **High School** have the lowest average salary"
   ]
  },
  {
   "cell_type": "markdown",
   "metadata": {},
   "source": [
    "## 4.2 Gender"
   ]
  },
  {
   "cell_type": "markdown",
   "metadata": {},
   "source": [
    "### 4.2.1 Gender vs Average Salary"
   ]
  },
  {
   "cell_type": "code",
   "execution_count": 296,
   "metadata": {},
   "outputs": [
    {
     "name": "stdout",
     "output_type": "stream",
     "text": [
      "+------+----------+\n",
      "|Gender|avg_salary|\n",
      "+------+----------+\n",
      "|Female|  107889.0|\n",
      "| Other| 125869.86|\n",
      "|  Male|  121395.7|\n",
      "+------+----------+\n",
      "\n"
     ]
    }
   ],
   "source": [
    "spark.sql(\"SELECT \\\n",
    "    Gender, \\\n",
    "    ROUND(AVG(Salary), 2) AS avg_salary \\\n",
    "FROM \\\n",
    "    salarydb \\\n",
    "GROUP BY \\\n",
    "    Gender\").show()"
   ]
  },
  {
   "cell_type": "markdown",
   "metadata": {},
   "source": [
    "+ Men get on average 14k more than women"
   ]
  },
  {
   "cell_type": "markdown",
   "metadata": {},
   "source": [
    "### 4.2.2 Gender vs Average Salary by Education"
   ]
  },
  {
   "cell_type": "code",
   "execution_count": 297,
   "metadata": {},
   "outputs": [
    {
     "name": "stdout",
     "output_type": "stream",
     "text": [
      "+------+--------------+----------+\n",
      "|Gender|EducationLevel|avg_salary|\n",
      "+------+--------------+----------+\n",
      "|  Male|           PhD| 168711.07|\n",
      "|Female|           PhD| 160266.29|\n",
      "| Other|      Master's|  161393.0|\n",
      "|Female|      Master's| 122694.54|\n",
      "|  Male|      Master's| 140060.59|\n",
      "| Other|   High School| 119949.33|\n",
      "|  Male|   High School|  39380.75|\n",
      "|Female|   High School|  30756.05|\n",
      "|Female|    Bachelor's|  89165.22|\n",
      "|  Male|    Bachelor's|  98971.77|\n",
      "+------+--------------+----------+\n",
      "\n"
     ]
    }
   ],
   "source": [
    "spark.sql(\"SELECT \\\n",
    "    Gender, \\\n",
    "    EducationLevel, \\\n",
    "    ROUND(AVG(Salary), 2) AS avg_salary \\\n",
    "FROM \\\n",
    "    salarydb \\\n",
    "GROUP BY \\\n",
    "    Gender, \\\n",
    "    EducationLevel \\\n",
    "ORDER BY EducationLevel DESC\").show()"
   ]
  },
  {
   "cell_type": "markdown",
   "metadata": {},
   "source": [
    "+ Men and women with the same level of education, men end up receiving on average 10k more than women\n"
   ]
  },
  {
   "cell_type": "markdown",
   "metadata": {},
   "source": [
    "## 4.3 Country"
   ]
  },
  {
   "cell_type": "markdown",
   "metadata": {},
   "source": [
    "### 4.3.1 Average salary by Country"
   ]
  },
  {
   "cell_type": "code",
   "execution_count": 298,
   "metadata": {},
   "outputs": [
    {
     "name": "stdout",
     "output_type": "stream",
     "text": [
      "+---------+----------+\n",
      "|  Country|avg_salary|\n",
      "+---------+----------+\n",
      "|    China| 116271.37|\n",
      "|      USA| 112995.49|\n",
      "|       UK|  115951.1|\n",
      "|   Canada| 116556.73|\n",
      "|Australia| 114917.38|\n",
      "+---------+----------+\n",
      "\n"
     ]
    }
   ],
   "source": [
    "spark.sql(\"SELECT \\\n",
    "    Country, \\\n",
    "    ROUND(AVG(Salary), 2) AS avg_salary \\\n",
    "FROM \\\n",
    "    salarydb \\\n",
    "GROUP BY \\\n",
    "    Country\").show()"
   ]
  },
  {
   "cell_type": "markdown",
   "metadata": {},
   "source": [
    "+ The average salary between country is similar"
   ]
  },
  {
   "cell_type": "markdown",
   "metadata": {},
   "source": [
    "### 4.3.2 Average salary by Gender and Country "
   ]
  },
  {
   "cell_type": "code",
   "execution_count": 299,
   "metadata": {},
   "outputs": [
    {
     "name": "stdout",
     "output_type": "stream",
     "text": [
      "+------+---------+----------+\n",
      "|Gender|  Country|avg_salary|\n",
      "+------+---------+----------+\n",
      "|  Male|      USA| 119683.12|\n",
      "|Female|      USA| 104992.69|\n",
      "| Other|      USA| 111517.33|\n",
      "|  Male|       UK| 122206.37|\n",
      "| Other|       UK|  129797.0|\n",
      "|Female|       UK| 108456.69|\n",
      "| Other|    China| 112516.75|\n",
      "|  Male|    China| 120226.31|\n",
      "|Female|    China| 111291.21|\n",
      "|  Male|   Canada| 123982.06|\n",
      "| Other|   Canada|  161347.0|\n",
      "|Female|   Canada| 106884.71|\n",
      "|  Male|Australia| 120896.76|\n",
      "| Other|Australia|  104127.0|\n",
      "|Female|Australia| 107913.57|\n",
      "+------+---------+----------+\n",
      "\n"
     ]
    }
   ],
   "source": [
    "spark.sql(\"SELECT \\\n",
    "    Gender, \\\n",
    "    Country, \\\n",
    "    ROUND(AVG(Salary), 2) AS avg_salary \\\n",
    "FROM \\\n",
    "    salarydb \\\n",
    "GROUP BY \\\n",
    "    Gender, \\\n",
    "    Country \\\n",
    "ORDER BY Country DESC\").show()"
   ]
  },
  {
   "cell_type": "markdown",
   "metadata": {},
   "source": [
    "+ **USA**: Men get on average 15k more than women\n",
    "+ **UK**: Men get on average 14k more than women\n",
    "+ **China**: Men get on average 9k more than women\n",
    "+ **Canada**: Men get on average 17k more than women\n",
    "+ **Australia**: Men get on average 13k more than women\n"
   ]
  },
  {
   "cell_type": "markdown",
   "metadata": {},
   "source": [
    "## 4.4 Job Title"
   ]
  },
  {
   "cell_type": "markdown",
   "metadata": {},
   "source": [
    "### 4.4.1 Top 10 jobs with the highest salary"
   ]
  },
  {
   "cell_type": "code",
   "execution_count": 300,
   "metadata": {},
   "outputs": [
    {
     "name": "stdout",
     "output_type": "stream",
     "text": [
      "+---------------------------+----------+\n",
      "|JobTitle                   |avg_salary|\n",
      "+---------------------------+----------+\n",
      "|CEO                        |250000.0  |\n",
      "|Chief Technology Officer   |250000.0  |\n",
      "|Chief Data Officer         |220000.0  |\n",
      "|Director of Data Science   |204561.4  |\n",
      "|Director                   |200000.0  |\n",
      "|VP of Finance              |200000.0  |\n",
      "|VP of Operations           |190000.0  |\n",
      "|Operations Director        |190000.0  |\n",
      "|Director of Human Resources|187500.0  |\n",
      "|Marketing Director         |183984.38 |\n",
      "+---------------------------+----------+\n",
      "only showing top 10 rows\n",
      "\n"
     ]
    }
   ],
   "source": [
    "spark.sql(\"SELECT \\\n",
    "    JobTitle, \\\n",
    "    ROUND(AVG(Salary), 2) AS avg_salary \\\n",
    "FROM \\\n",
    "    salarydb \\\n",
    "GROUP BY \\\n",
    "    JobTitle \\\n",
    "ORDER BY 2 DESC\").show(10,False)  "
   ]
  },
  {
   "cell_type": "markdown",
   "metadata": {},
   "source": [
    "### 4.4.2 Top 10 jobs with the most sum of salaries"
   ]
  },
  {
   "cell_type": "code",
   "execution_count": 301,
   "metadata": {},
   "outputs": [
    {
     "name": "stdout",
     "output_type": "stream",
     "text": [
      "+-------------------------+---------+-----------+\n",
      "|JobTitle                 |job_count|avg_salary |\n",
      "+-------------------------+---------+-----------+\n",
      "|Data Scientist           |453      |7.5246E7   |\n",
      "|Software Engineer Manager|376      |6.4860815E7|\n",
      "|Software Engineer        |518      |5.866E7    |\n",
      "|Senior Project Engineer  |318      |5.2859472E7|\n",
      "|Data Analyst             |363      |4.5408E7   |\n",
      "|Product Manager          |313      |4.4595E7   |\n",
      "|Full Stack Engineer      |308      |3.9029711E7|\n",
      "|Senior Software Engineer |244      |3.6923712E7|\n",
      "|Marketing Manager        |255      |2.9877E7   |\n",
      "|Back end Developer       |244      |2.4974025E7|\n",
      "+-------------------------+---------+-----------+\n",
      "only showing top 10 rows\n",
      "\n"
     ]
    }
   ],
   "source": [
    "spark.sql(\"SELECT \\\n",
    "    JobTitle, \\\n",
    "    COUNT(JobTitle) AS job_count, \\\n",
    "    ROUND(SUM(Salary), 2) AS avg_salary \\\n",
    "FROM \\\n",
    "    salarydb \\\n",
    "GROUP BY \\\n",
    "    JobTitle \\\n",
    "ORDER BY 3 DESC\").show(10,False)  "
   ]
  },
  {
   "cell_type": "markdown",
   "metadata": {},
   "source": [
    "## 5. Data Preprocessing"
   ]
  },
  {
   "cell_type": "code",
   "execution_count": 302,
   "metadata": {},
   "outputs": [
    {
     "name": "stdout",
     "output_type": "stream",
     "text": [
      "+---+----+------+--------------+-----------------+----------+-------+-------+--------+\n",
      "| ID| Age|Gender|EducationLevel|         JobTitle|Experience| Salary|Country|    Race|\n",
      "+---+----+------+--------------+-----------------+----------+-------+-------+--------+\n",
      "|  0|32.0|  Male|    Bachelor's|Software Engineer|       5.0|90000.0|     UK|   White|\n",
      "|  1|28.0|Female|      Master's|     Data Analyst|       3.0|65000.0|    USA|Hispanic|\n",
      "+---+----+------+--------------+-----------------+----------+-------+-------+--------+\n",
      "only showing top 2 rows\n",
      "\n"
     ]
    }
   ],
   "source": [
    "df.show(2)"
   ]
  },
  {
   "cell_type": "markdown",
   "metadata": {},
   "source": [
    "To handle categorical data here, we will use the ```'StringIndexer,'``` which is a specific technique in Spark that works very similarly to the ```'label encoder'``` by transforming categorical attributes into integer numbers."
   ]
  },
  {
   "cell_type": "code",
   "execution_count": 303,
   "metadata": {},
   "outputs": [],
   "source": [
    "gender_indexer = StringIndexer(inputCol='Gender', outputCol='gender_index')\n",
    "education_indexer = StringIndexer(inputCol='EducationLevel', outputCol='education_index')\n",
    "job_indexer = StringIndexer(inputCol='JobTitle', outputCol='job_index')\n",
    "country_indexer = StringIndexer(inputCol='Country', outputCol='country_index')\n",
    "race_indexer = StringIndexer(inputCol='Race', outputCol='race_index')"
   ]
  },
  {
   "cell_type": "markdown",
   "metadata": {},
   "source": [
    "Now, we place all independent values into a single column using ```'VectorAssembler'```"
   ]
  },
  {
   "cell_type": "code",
   "execution_count": 304,
   "metadata": {},
   "outputs": [],
   "source": [
    "assembler = VectorAssembler(inputCols=['Age','gender_index', 'education_index','job_index','Experience','country_index','race_index'], outputCol='features')\n",
    "\n",
    "# Create pipeline and fit it to the data\n",
    "pipeline = Pipeline(stages=[gender_indexer, education_indexer,job_indexer,country_indexer,race_indexer, assembler])\n",
    "df_indexed = pipeline.fit(df).transform(df)"
   ]
  },
  {
   "cell_type": "code",
   "execution_count": 305,
   "metadata": {},
   "outputs": [
    {
     "name": "stdout",
     "output_type": "stream",
     "text": [
      "+--------------------+-------+\n",
      "|            features| Salary|\n",
      "+--------------------+-------+\n",
      "|(7,[0,4,5],[32.0,...|90000.0|\n",
      "|[28.0,1.0,1.0,3.0...|65000.0|\n",
      "+--------------------+-------+\n",
      "only showing top 2 rows\n",
      "\n"
     ]
    }
   ],
   "source": [
    "df_indexed.select('features','Salary').show(2)"
   ]
  },
  {
   "cell_type": "markdown",
   "metadata": {},
   "source": [
    "## 6. Splitting the dataset "
   ]
  },
  {
   "cell_type": "code",
   "execution_count": 306,
   "metadata": {},
   "outputs": [],
   "source": [
    "final_data = df_indexed.select('features','Salary')"
   ]
  },
  {
   "cell_type": "code",
   "execution_count": 307,
   "metadata": {},
   "outputs": [],
   "source": [
    "train, test = final_data.randomSplit([0.7,0.3],seed=72)"
   ]
  },
  {
   "cell_type": "markdown",
   "metadata": {},
   "source": [
    "## 7. Creating Model"
   ]
  },
  {
   "cell_type": "markdown",
   "metadata": {},
   "source": [
    "### 7.1 Linear Regression"
   ]
  },
  {
   "cell_type": "code",
   "execution_count": 308,
   "metadata": {},
   "outputs": [
    {
     "name": "stdout",
     "output_type": "stream",
     "text": [
      "+------------------+--------+--------------------+\n",
      "|        prediction|  Salary|            features|\n",
      "+------------------+--------+--------------------+\n",
      "| 76631.72591443139| 50000.0|(7,[0,1,4],[23.0,...|\n",
      "|104168.36435671756|160000.0|(7,[0,1,4],[28.0,...|\n",
      "| 94187.98779814204|140000.0|(7,[0,1,4],[29.0,...|\n",
      "|101416.17151404737| 90000.0|(7,[0,1,4],[30.0,...|\n",
      "|  79251.5455068082| 90000.0|(7,[0,3,4],[23.0,...|\n",
      "+------------------+--------+--------------------+\n",
      "only showing top 5 rows\n",
      "\n",
      "RMSE: 28372.594047\n",
      "R2: 0.709830\n"
     ]
    }
   ],
   "source": [
    "lr = LinearRegression(labelCol=\"Salary\", featuresCol=\"features\")\n",
    "\n",
    "lrmodel = lr.fit(train)\n",
    "predictions = lrmodel.transform(test)\n",
    "\n",
    "predictions.select(\"prediction\", \"Salary\", \"features\").show(5)\n",
    "\n",
    "trainingSummary = lrmodel.summary\n",
    "\n",
    "print(\"RMSE: %f\" % trainingSummary.rootMeanSquaredError)\n",
    "print(\"R2: %f\" % trainingSummary.r2)"
   ]
  },
  {
   "cell_type": "markdown",
   "metadata": {},
   "source": [
    "### 7.2 Random forest regression"
   ]
  },
  {
   "cell_type": "code",
   "execution_count": 329,
   "metadata": {},
   "outputs": [
    {
     "name": "stdout",
     "output_type": "stream",
     "text": [
      "+------------------+--------+--------------------+\n",
      "|        prediction|  Salary|            features|\n",
      "+------------------+--------+--------------------+\n",
      "| 67384.73926096143| 50000.0|(7,[0,1,4],[23.0,...|\n",
      "| 123644.5311780095|160000.0|(7,[0,1,4],[28.0,...|\n",
      "|104361.57855784424|140000.0|(7,[0,1,4],[29.0,...|\n",
      "|120697.01064712256| 90000.0|(7,[0,1,4],[30.0,...|\n",
      "| 85791.79776284129| 90000.0|(7,[0,3,4],[23.0,...|\n",
      "+------------------+--------+--------------------+\n",
      "only showing top 5 rows\n",
      "\n",
      "R2 Score: 0.8779664048939058\n",
      "Root Mean Squared Error (RMSE) on test data = 18528.1\n"
     ]
    }
   ],
   "source": [
    "rf = RandomForestRegressor(labelCol=\"Salary\", featuresCol=\"features\",maxBins=200)\n",
    "\n",
    "rfmodel = rf.fit(train)\n",
    "\n",
    "predictions = rfmodel.transform(test)\n",
    "\n",
    "predictions.select(\"prediction\", \"Salary\", \"features\").show(5)\n",
    "\n",
    "rmse_evaluator = RegressionEvaluator(labelCol=\"Salary\", predictionCol=\"prediction\", metricName=\"rmse\")\n",
    "r2_evaluator = RegressionEvaluator(labelCol=\"Salary\", predictionCol=\"prediction\", metricName=\"r2\")\n",
    "\n",
    "rmse = rmse_evaluator.evaluate(predictions)\n",
    "r2_score = r2_evaluator.evaluate(predictions)\n",
    "\n",
    "print(\"R2 Score:\", r2_score)\n",
    "print(\"Root Mean Squared Error (RMSE) on test data = %g\" % rmse)"
   ]
  },
  {
   "cell_type": "markdown",
   "metadata": {},
   "source": [
    "### 7.3 Gradient-boosted tree regression"
   ]
  },
  {
   "cell_type": "code",
   "execution_count": 363,
   "metadata": {},
   "outputs": [
    {
     "name": "stdout",
     "output_type": "stream",
     "text": [
      "+------------------+--------+--------------------+\n",
      "|        prediction|  Salary|            features|\n",
      "+------------------+--------+--------------------+\n",
      "| 73924.70057708598| 70000.0|(7,[0,1,4],[27.0,...|\n",
      "| 139346.9476671564|160000.0|(7,[0,1,4],[28.0,...|\n",
      "|103551.30855690011| 90000.0|(7,[0,1,4],[30.0,...|\n",
      "|103551.30855690011| 90000.0|(7,[0,1,4],[30.0,...|\n",
      "|103551.30855690011| 90000.0|(7,[0,1,4],[30.0,...|\n",
      "+------------------+--------+--------------------+\n",
      "only showing top 5 rows\n",
      "\n",
      "+------------------+--------+--------------------+\n",
      "|        prediction|  Salary|            features|\n",
      "+------------------+--------+--------------------+\n",
      "| 63639.62407528602| 50000.0|(7,[0,1,4],[23.0,...|\n",
      "| 139346.9476671564|160000.0|(7,[0,1,4],[28.0,...|\n",
      "|100239.88299555617|140000.0|(7,[0,1,4],[29.0,...|\n",
      "|103551.30855690011| 90000.0|(7,[0,1,4],[30.0,...|\n",
      "| 100771.1397294436| 90000.0|(7,[0,3,4],[23.0,...|\n",
      "+------------------+--------+--------------------+\n",
      "only showing top 5 rows\n",
      "\n",
      "Root Mean Squared Error (RMSE) on train data = 12383.4970644024\n",
      "Root Mean Squared Error (RMSE) on test data = 15934.573289983315\n",
      "R2 Score on train data: 0.944723406953778\n",
      "R2 Score on test data: 0.909739111705371\n"
     ]
    }
   ],
   "source": [
    "gbt = GBTRegressor(labelCol=\"Salary\", featuresCol=\"features\", maxBins=200, maxIter=10)\n",
    "\n",
    "gbtmodel = gbt.fit(train)\n",
    "\n",
    "predictions_train = gbtmodel.transform(train)\n",
    "predictions_test = gbtmodel.transform(test)\n",
    "\n",
    "predictions_train.select(\"prediction\", \"Salary\", \"features\").show(5)\n",
    "predictions_test.select(\"prediction\", \"Salary\", \"features\").show(5)\n",
    "\n",
    "rmse_evaluator = RegressionEvaluator(labelCol=\"Salary\", predictionCol=\"prediction\", metricName=\"rmse\")\n",
    "\n",
    "rmse_train = rmse_evaluator.evaluate(predictions_train)\n",
    "rmse_test = rmse_evaluator.evaluate(predictions_test)\n",
    "\n",
    "r2_evaluator = RegressionEvaluator(labelCol=\"Salary\", predictionCol=\"prediction\", metricName=\"r2\")\n",
    "\n",
    "r2_score_train = r2_evaluator.evaluate(predictions_train)\n",
    "r2_score_test = r2_evaluator.evaluate(predictions_test)\n",
    "\n",
    "print(\"Root Mean Squared Error (RMSE) on train data =\", rmse_train)\n",
    "print(\"Root Mean Squared Error (RMSE) on test data =\", rmse_test)\n",
    "\n",
    "print(\"R2 Score on train data:\", r2_score_train)\n",
    "print(\"R2 Score on test data:\", r2_score_test)"
   ]
  },
  {
   "cell_type": "markdown",
   "metadata": {},
   "source": [
    "Analyzing the metrics of the three algorithms we tested, the Gradient-Boosted Tree Regression performed the best. Therefore, we will proceed with fine-tuning this model to further optimize its performance."
   ]
  },
  {
   "cell_type": "markdown",
   "metadata": {},
   "source": [
    "## 8. Tunning the model"
   ]
  },
  {
   "cell_type": "code",
   "execution_count": 362,
   "metadata": {},
   "outputs": [],
   "source": [
    "gbt = GBTRegressor(featuresCol=\"features\", labelCol=\"Salary\")\n",
    "\n",
    "param_grid = ParamGridBuilder() \\\n",
    "    .addGrid(gbt.maxBins, [200]) \\\n",
    "    .addGrid(gbt.maxIter, [10,20,50]) \\\n",
    "    .addGrid(gbt.subsamplingRate, [0.8, 1.0])  \\\n",
    "    .addGrid(gbt.minInstancesPerNode, [1, 5, 10]) \\\n",
    "    .addGrid(gbt.minInfoGain, [0.0, 0.1, 0.2]) \\\n",
    "    .build()\n",
    "\n",
    "evaluator = RegressionEvaluator(labelCol=\"Salary\", predictionCol=\"prediction\", metricName=\"r2\")\n",
    "\n",
    "cv = CrossValidator(estimator=gbt, estimatorParamMaps=param_grid, evaluator=evaluator, numFolds=5)\n",
    "\n",
    "cv_model = cv.fit(train)\n",
    "\n",
    "best_model = cv_model.bestModel"
   ]
  },
  {
   "cell_type": "code",
   "execution_count": 364,
   "metadata": {},
   "outputs": [
    {
     "name": "stdout",
     "output_type": "stream",
     "text": [
      "+-----------------+--------+--------------------+\n",
      "|       prediction|  Salary|            features|\n",
      "+-----------------+--------+--------------------+\n",
      "|74904.08510848839| 70000.0|(7,[0,1,4],[27.0,...|\n",
      "|146028.1051142685|160000.0|(7,[0,1,4],[28.0,...|\n",
      "|97965.75922119537| 90000.0|(7,[0,1,4],[30.0,...|\n",
      "|97965.75922119537| 90000.0|(7,[0,1,4],[30.0,...|\n",
      "|97965.75922119537| 90000.0|(7,[0,1,4],[30.0,...|\n",
      "+-----------------+--------+--------------------+\n",
      "only showing top 5 rows\n",
      "\n",
      "+-----------------+--------+--------------------+\n",
      "|       prediction|  Salary|            features|\n",
      "+-----------------+--------+--------------------+\n",
      "|54994.82676905389| 50000.0|(7,[0,1,4],[23.0,...|\n",
      "|146028.1051142685|160000.0|(7,[0,1,4],[28.0,...|\n",
      "| 95501.9932511042|140000.0|(7,[0,1,4],[29.0,...|\n",
      "|97965.75922119537| 90000.0|(7,[0,1,4],[30.0,...|\n",
      "|89405.65935632093| 90000.0|(7,[0,3,4],[23.0,...|\n",
      "+-----------------+--------+--------------------+\n",
      "only showing top 5 rows\n",
      "\n",
      "Root Mean Squared Error (RMSE) on train data = 8737.554034096715\n",
      "Root Mean Squared Error (RMSE) on test data = 14785.262572758635\n",
      "R2 Score on train data: 0.9724808886492974\n",
      "R2 Score on test data: 0.9222900176371213\n"
     ]
    }
   ],
   "source": [
    "predictions_train = best_model.transform(train)\n",
    "predictions_test = best_model.transform(test)\n",
    "\n",
    "predictions_train.select(\"prediction\", \"Salary\", \"features\").show(5)\n",
    "predictions_test.select(\"prediction\", \"Salary\", \"features\").show(5)\n",
    "\n",
    "rmse_evaluator = RegressionEvaluator(labelCol=\"Salary\", predictionCol=\"prediction\", metricName=\"rmse\")\n",
    "\n",
    "rmse_train = rmse_evaluator.evaluate(predictions_train)\n",
    "rmse_test = rmse_evaluator.evaluate(predictions_test)\n",
    "\n",
    "print(\"Root Mean Squared Error (RMSE) on train data =\", rmse_train)\n",
    "print(\"Root Mean Squared Error (RMSE) on test data =\", rmse_test)\n",
    "\n",
    "r2_evaluator = RegressionEvaluator(labelCol=\"Salary\", predictionCol=\"prediction\", metricName=\"r2\")\n",
    "\n",
    "r2_score_train = r2_evaluator.evaluate(predictions_train)\n",
    "r2_score_test = r2_evaluator.evaluate(predictions_test)\n",
    "\n",
    "print(\"R2 Score on train data:\", r2_score_train)\n",
    "print(\"R2 Score on test data:\", r2_score_test)"
   ]
  },
  {
   "cell_type": "markdown",
   "metadata": {},
   "source": [
    "## 9. Testing Tuned model in unseen data"
   ]
  },
  {
   "cell_type": "code",
   "execution_count": null,
   "metadata": {},
   "outputs": [
    {
     "name": "stdout",
     "output_type": "stream",
     "text": [
      "+---+-------+--------------+-------------------+----------+----------+-----------------+\n",
      "|Age| Gender|EducationLevel|           JobTitle|Experience|   Country|             Race|\n",
      "+---+-------+--------------+-------------------+----------+----------+-----------------+\n",
      "| 25| Female|      Master's|     Data Scientist|       3.0|    Canada|            Asian|\n",
      "| 40|   Male|           PhD|   Senior Scientist|      10.0|        UK|            Black|\n",
      "| 35| Female|    Bachelor's|  Software Engineer|       7.0|     China|          Chinese|\n",
      "| 33|  Other|   High School| Software Developer|       8.0|       USA| African American|\n",
      "| 45|   Male|    Bachelor's|      Sales Manager|      12.0|        UK|            Mixed|\n",
      "| 29|  Other|      Master's|      Data Engineer|       6.0| Australia|           Korean|\n",
      "+---+-------+--------------+-------------------+----------+----------+-----------------+\n",
      "\n"
     ]
    }
   ],
   "source": [
    "unseen_df = spark.read.csv(\"data/unseendata.csv\", header=True, inferSchema=True)\n",
    "unseen_df.show()"
   ]
  },
  {
   "cell_type": "code",
   "execution_count": 343,
   "metadata": {},
   "outputs": [],
   "source": [
    "unseen_indexed = pipeline.fit(unseen).transform(unseen)"
   ]
  },
  {
   "cell_type": "code",
   "execution_count": 344,
   "metadata": {},
   "outputs": [],
   "source": [
    "unseen_final = unseen_indexed.select('features')"
   ]
  },
  {
   "cell_type": "code",
   "execution_count": 365,
   "metadata": {},
   "outputs": [
    {
     "name": "stdout",
     "output_type": "stream",
     "text": [
      "+------------------+-------------------------------+\n",
      "|prediction        |features                       |\n",
      "+------------------+-------------------------------+\n",
      "|116548.54312909255|[25.0,0.0,1.0,1.0,3.0,2.0,1.0] |\n",
      "|114261.16186101131|[40.0,1.0,3.0,3.0,10.0,0.0,2.0]|\n",
      "|122497.75515801723|[35.0,0.0,0.0,5.0,7.0,3.0,3.0] |\n",
      "|127011.24425217317|[33.0,2.0,2.0,4.0,8.0,4.0,0.0] |\n",
      "|167825.64581715153|[45.0,1.0,0.0,2.0,12.0,0.0,5.0]|\n",
      "|170877.09535562355|[29.0,2.0,1.0,0.0,6.0,1.0,4.0] |\n",
      "+------------------+-------------------------------+\n",
      "\n"
     ]
    }
   ],
   "source": [
    "predictions = best_model.transform(unseen_final)\n",
    "\n",
    "predictions.select(\"prediction\",\"features\").show(6,False)"
   ]
  },
  {
   "cell_type": "markdown",
   "metadata": {},
   "source": [
    "### 10. Stop Spark Session"
   ]
  },
  {
   "cell_type": "code",
   "execution_count": 366,
   "metadata": {},
   "outputs": [],
   "source": [
    "spark.stop()"
   ]
  }
 ],
 "metadata": {
  "kernelspec": {
   "display_name": "Python 3",
   "language": "python",
   "name": "python3"
  },
  "language_info": {
   "codemirror_mode": {
    "name": "ipython",
    "version": 3
   },
   "file_extension": ".py",
   "mimetype": "text/x-python",
   "name": "python",
   "nbconvert_exporter": "python",
   "pygments_lexer": "ipython3",
   "version": "3.10.4"
  },
  "orig_nbformat": 4
 },
 "nbformat": 4,
 "nbformat_minor": 2
}
